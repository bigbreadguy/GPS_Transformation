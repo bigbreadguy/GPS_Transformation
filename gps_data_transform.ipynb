{
 "cells": [
  {
   "cell_type": "code",
   "execution_count": 1,
   "metadata": {},
   "outputs": [],
   "source": [
    "import os\n",
    "import pandas as pd\n",
    "from transform import *\n",
    "\n",
    "fname = \"gps_data_jaesung.csv\"\n",
    "\n",
    "cwd_dir = os.getcwd()\n",
    "\n",
    "data_dir = os.path.join(cwd_dir, \"data\", fname)\n",
    "\n",
    "df = pd.read_csv(data_dir)\n",
    "\n",
    "transform = Transform()"
   ]
  },
  {
   "cell_type": "code",
   "execution_count": 2,
   "metadata": {},
   "outputs": [
    {
     "data": {
      "text/html": [
       "<div>\n",
       "<style scoped>\n",
       "    .dataframe tbody tr th:only-of-type {\n",
       "        vertical-align: middle;\n",
       "    }\n",
       "\n",
       "    .dataframe tbody tr th {\n",
       "        vertical-align: top;\n",
       "    }\n",
       "\n",
       "    .dataframe thead th {\n",
       "        text-align: right;\n",
       "    }\n",
       "</style>\n",
       "<table border=\"1\" class=\"dataframe\">\n",
       "  <thead>\n",
       "    <tr style=\"text-align: right;\">\n",
       "      <th></th>\n",
       "      <th>Date</th>\n",
       "      <th>TimeStamp</th>\n",
       "      <th>FrameCount</th>\n",
       "      <th>Latitude</th>\n",
       "      <th>Longitude</th>\n",
       "      <th>XCoord</th>\n",
       "      <th>ZCoord</th>\n",
       "      <th>MyX</th>\n",
       "      <th>MyZ</th>\n",
       "    </tr>\n",
       "  </thead>\n",
       "  <tbody>\n",
       "    <tr>\n",
       "      <th>0</th>\n",
       "      <td>11/11/2020 05:46:41</td>\n",
       "      <td>4.799998</td>\n",
       "      <td>48</td>\n",
       "      <td>37.55457</td>\n",
       "      <td>-127.0444</td>\n",
       "      <td>51.28415</td>\n",
       "      <td>18.24561</td>\n",
       "      <td>51.28415</td>\n",
       "      <td>18.24561</td>\n",
       "    </tr>\n",
       "    <tr>\n",
       "      <th>1</th>\n",
       "      <td>11/11/2020 05:46:42</td>\n",
       "      <td>5.599997</td>\n",
       "      <td>56</td>\n",
       "      <td>37.55458</td>\n",
       "      <td>-127.0444</td>\n",
       "      <td>52.55381</td>\n",
       "      <td>18.23945</td>\n",
       "      <td>52.55381</td>\n",
       "      <td>18.23945</td>\n",
       "    </tr>\n",
       "    <tr>\n",
       "      <th>2</th>\n",
       "      <td>11/11/2020 05:46:45</td>\n",
       "      <td>8.299995</td>\n",
       "      <td>83</td>\n",
       "      <td>37.55461</td>\n",
       "      <td>-127.0444</td>\n",
       "      <td>55.09313</td>\n",
       "      <td>18.22715</td>\n",
       "      <td>55.09313</td>\n",
       "      <td>18.22715</td>\n",
       "    </tr>\n",
       "    <tr>\n",
       "      <th>3</th>\n",
       "      <td>11/11/2020 05:46:46</td>\n",
       "      <td>9.299999</td>\n",
       "      <td>93</td>\n",
       "      <td>37.55462</td>\n",
       "      <td>-127.0444</td>\n",
       "      <td>55.93957</td>\n",
       "      <td>18.22304</td>\n",
       "      <td>55.93957</td>\n",
       "      <td>18.22304</td>\n",
       "    </tr>\n",
       "    <tr>\n",
       "      <th>4</th>\n",
       "      <td>11/11/2020 05:46:47</td>\n",
       "      <td>10.300000</td>\n",
       "      <td>103</td>\n",
       "      <td>37.55462</td>\n",
       "      <td>-127.0444</td>\n",
       "      <td>56.78274</td>\n",
       "      <td>17.54506</td>\n",
       "      <td>56.78274</td>\n",
       "      <td>17.54506</td>\n",
       "    </tr>\n",
       "  </tbody>\n",
       "</table>\n",
       "</div>"
      ],
      "text/plain": [
       "                  Date  TimeStamp  FrameCount  Latitude  Longitude    XCoord  \\\n",
       "0  11/11/2020 05:46:41   4.799998          48  37.55457  -127.0444  51.28415   \n",
       "1  11/11/2020 05:46:42   5.599997          56  37.55458  -127.0444  52.55381   \n",
       "2  11/11/2020 05:46:45   8.299995          83  37.55461  -127.0444  55.09313   \n",
       "3  11/11/2020 05:46:46   9.299999          93  37.55462  -127.0444  55.93957   \n",
       "4  11/11/2020 05:46:47  10.300000         103  37.55462  -127.0444  56.78274   \n",
       "\n",
       "     ZCoord       MyX       MyZ  \n",
       "0  18.24561  51.28415  18.24561  \n",
       "1  18.23945  52.55381  18.23945  \n",
       "2  18.22715  55.09313  18.22715  \n",
       "3  18.22304  55.93957  18.22304  \n",
       "4  17.54506  56.78274  17.54506  "
      ]
     },
     "execution_count": 2,
     "metadata": {},
     "output_type": "execute_result"
    }
   ],
   "source": [
    "df.head()"
   ]
  },
  {
   "cell_type": "code",
   "execution_count": 3,
   "metadata": {},
   "outputs": [
    {
     "name": "stdout",
     "output_type": "stream",
     "text": [
      "41\n"
     ]
    }
   ],
   "source": [
    "data_len = len(df)\n",
    "\n",
    "print(data_len)"
   ]
  },
  {
   "cell_type": "code",
   "execution_count": 4,
   "metadata": {},
   "outputs": [],
   "source": [
    "lat_np = df[\"Latitude\"].values"
   ]
  },
  {
   "cell_type": "code",
   "execution_count": 5,
   "metadata": {},
   "outputs": [
    {
     "data": {
      "text/plain": [
       "37.55457"
      ]
     },
     "execution_count": 5,
     "metadata": {},
     "output_type": "execute_result"
    }
   ],
   "source": [
    "lat_np[0]"
   ]
  },
  {
   "cell_type": "code",
   "execution_count": 6,
   "metadata": {},
   "outputs": [],
   "source": [
    "result = pd.DataFrame(columns=[\"latitude\", \"longitude\", \"altitude\"])\n",
    "\n",
    "latitude = []\n",
    "longitude = []\n",
    "altitude = []\n",
    "\n",
    "lat_np = np.abs(df[\"Latitude\"].values)\n",
    "lon_np = np.abs(df[\"Longitude\"].values)\n",
    "\n",
    "for i in range(data_len):\n",
    "    coord_np = transform.exec(lat_np[i], lon_np[i], 0)\n",
    "    latitude.append(coord_np[0])\n",
    "    longitude.append(coord_np[1])\n",
    "    altitude.append(coord_np[2])\n",
    "\n",
    "result[\"latitude\"] = latitude\n",
    "result[\"longitude\"] = longitude\n",
    "result[\"altitude\"] = altitude\n",
    "\n",
    "result_dir = os.path.join(cwd_dir, \"result\", fname)\n",
    "\n",
    "result.to_csv(result_dir)"
   ]
  },
  {
   "cell_type": "code",
   "execution_count": 7,
   "metadata": {},
   "outputs": [
    {
     "data": {
      "text/html": [
       "<div>\n",
       "<style scoped>\n",
       "    .dataframe tbody tr th:only-of-type {\n",
       "        vertical-align: middle;\n",
       "    }\n",
       "\n",
       "    .dataframe tbody tr th {\n",
       "        vertical-align: top;\n",
       "    }\n",
       "\n",
       "    .dataframe thead th {\n",
       "        text-align: right;\n",
       "    }\n",
       "</style>\n",
       "<table border=\"1\" class=\"dataframe\">\n",
       "  <thead>\n",
       "    <tr style=\"text-align: right;\">\n",
       "      <th></th>\n",
       "      <th>latitude</th>\n",
       "      <th>longitude</th>\n",
       "      <th>altitude</th>\n",
       "    </tr>\n",
       "  </thead>\n",
       "  <tbody>\n",
       "    <tr>\n",
       "      <th>0</th>\n",
       "      <td>5.959046</td>\n",
       "      <td>20.308154</td>\n",
       "      <td>55.402019</td>\n",
       "    </tr>\n",
       "    <tr>\n",
       "      <th>1</th>\n",
       "      <td>5.967730</td>\n",
       "      <td>20.377831</td>\n",
       "      <td>55.403432</td>\n",
       "    </tr>\n",
       "    <tr>\n",
       "      <th>2</th>\n",
       "      <td>5.993782</td>\n",
       "      <td>20.586861</td>\n",
       "      <td>55.407672</td>\n",
       "    </tr>\n",
       "    <tr>\n",
       "      <th>3</th>\n",
       "      <td>6.002465</td>\n",
       "      <td>20.656538</td>\n",
       "      <td>55.409085</td>\n",
       "    </tr>\n",
       "    <tr>\n",
       "      <th>4</th>\n",
       "      <td>6.002465</td>\n",
       "      <td>20.656538</td>\n",
       "      <td>55.409085</td>\n",
       "    </tr>\n",
       "  </tbody>\n",
       "</table>\n",
       "</div>"
      ],
      "text/plain": [
       "   latitude  longitude   altitude\n",
       "0  5.959046  20.308154  55.402019\n",
       "1  5.967730  20.377831  55.403432\n",
       "2  5.993782  20.586861  55.407672\n",
       "3  6.002465  20.656538  55.409085\n",
       "4  6.002465  20.656538  55.409085"
      ]
     },
     "execution_count": 7,
     "metadata": {},
     "output_type": "execute_result"
    }
   ],
   "source": [
    "result.head()"
   ]
  },
  {
   "cell_type": "code",
   "execution_count": null,
   "metadata": {},
   "outputs": [],
   "source": []
  }
 ],
 "metadata": {
  "kernelspec": {
   "display_name": "Python 3.6.10 64-bit ('nasdaq': conda)",
   "language": "python",
   "name": "python361064bitnasdaqconda5c019f384c424c1ca6b6517aa177f561"
  },
  "language_info": {
   "codemirror_mode": {
    "name": "ipython",
    "version": 3
   },
   "file_extension": ".py",
   "mimetype": "text/x-python",
   "name": "python",
   "nbconvert_exporter": "python",
   "pygments_lexer": "ipython3",
   "version": "3.6.10"
  }
 },
 "nbformat": 4,
 "nbformat_minor": 4
}
